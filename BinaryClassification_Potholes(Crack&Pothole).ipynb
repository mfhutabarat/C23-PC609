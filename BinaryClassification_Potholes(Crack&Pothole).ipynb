{
  "nbformat": 4,
  "nbformat_minor": 0,
  "metadata": {
    "colab": {
      "provenance": [],
      "gpuType": "T4"
    },
    "kernelspec": {
      "name": "python3",
      "display_name": "Python 3"
    },
    "language_info": {
      "name": "python"
    },
    "accelerator": "GPU"
  },
  "cells": [
    {
      "cell_type": "code",
      "execution_count": null,
      "metadata": {
        "id": "3L8aw_ChKwa2"
      },
      "outputs": [],
      "source": [
        "import pandas as pd\n",
        "from keras.preprocessing.image import ImageDataGenerator\n",
        "from matplotlib import pyplot as plt\n",
        "import numpy as np\n",
        "import tensorflow as tf\n",
        "from tensorflow.keras.preprocessing.image import ImageDataGenerator\n",
        "from tensorflow.keras import optimizers"
      ]
    },
    {
      "cell_type": "code",
      "source": [
        "print(tf. __version__)"
      ],
      "metadata": {
        "colab": {
          "base_uri": "https://localhost:8080/"
        },
        "id": "CoW6qmfFwQ_2",
        "outputId": "0044f8bf-dc77-42de-8991-51e33273fceb"
      },
      "execution_count": null,
      "outputs": [
        {
          "output_type": "stream",
          "name": "stdout",
          "text": [
            "2.12.0\n"
          ]
        }
      ]
    },
    {
      "cell_type": "code",
      "source": [
        "from google.colab import drive\n",
        "drive.mount('/content/drive')"
      ],
      "metadata": {
        "colab": {
          "base_uri": "https://localhost:8080/"
        },
        "id": "LgDEIWLMK_Sn",
        "outputId": "b434d00c-ca79-4a8a-af77-7cdc92cf2aa4"
      },
      "execution_count": null,
      "outputs": [
        {
          "output_type": "stream",
          "name": "stdout",
          "text": [
            "Mounted at /content/drive\n"
          ]
        }
      ]
    },
    {
      "cell_type": "code",
      "source": [
        "train_datagen = ImageDataGenerator(rescale=1./255.,\n",
        "                                   rotation_range=40,\n",
        "                                   width_shift_range=0.2,\n",
        "                                   height_shift_range=0.2,\n",
        "                                   shear_range = 0.2,\n",
        "                                   zoom_range = 0.2,\n",
        "                                   horizontal_flip = True,\n",
        "                                   fill_mode=\"nearest\")"
      ],
      "metadata": {
        "id": "JY9vhjd6K_9m"
      },
      "execution_count": null,
      "outputs": []
    },
    {
      "cell_type": "code",
      "source": [
        "# Training folder location\n",
        "train_dir = '/content/drive/MyDrive/C23-PC609 | Product-Based/Machine_Learning/Image_dataset_binary/Train'\n",
        "\n",
        "# Using TrainGenerator to label the data and set target size\n",
        "train_gen = train_datagen.flow_from_directory(\n",
        "    train_dir,\n",
        "    target_size=(150, 150),\n",
        "    # color_mode='grayscale',\n",
        "    batch_size=16,\n",
        "    class_mode='categorical'\n",
        ")"
      ],
      "metadata": {
        "colab": {
          "base_uri": "https://localhost:8080/"
        },
        "id": "P_wUAi5xLCQf",
        "outputId": "573b07a8-5be5-41c9-de03-e3a9a73d043c"
      },
      "execution_count": null,
      "outputs": [
        {
          "output_type": "stream",
          "name": "stdout",
          "text": [
            "Found 1442 images belonging to 2 classes.\n"
          ]
        }
      ]
    },
    {
      "cell_type": "code",
      "source": [
        "validation_datagen = ImageDataGenerator(rescale=1./255.)"
      ],
      "metadata": {
        "id": "aYGY77PrLGzr"
      },
      "execution_count": null,
      "outputs": []
    },
    {
      "cell_type": "code",
      "source": [
        "# Validation folder location\n",
        "validation_dir = '/content/drive/MyDrive/C23-PC609 | Product-Based/Machine_Learning/Image_dataset_binary/Validation'\n",
        "\n",
        "# Using flow_from_directory to label the data and set target size\n",
        "val_gen = validation_datagen.flow_from_directory(\n",
        "    validation_dir,\n",
        "    target_size=(150, 150),\n",
        "    # color_mode='grayscale',\n",
        "    batch_size=16,\n",
        "    class_mode='categorical'\n",
        ")"
      ],
      "metadata": {
        "colab": {
          "base_uri": "https://localhost:8080/"
        },
        "id": "2IVFGLiELJQe",
        "outputId": "54fda6f5-4f5b-4caa-a3bb-9ad9a41ae1ee"
      },
      "execution_count": null,
      "outputs": [
        {
          "output_type": "stream",
          "name": "stdout",
          "text": [
            "Found 145 images belonging to 2 classes.\n"
          ]
        }
      ]
    },
    {
      "cell_type": "markdown",
      "source": [
        "### Build the Model (Model 3)\n",
        "- CNN layer (Convolutional and MaxPooling)\n",
        "- Using Regularization l2\n",
        "- Using 2 dropout layer (0.5)\n",
        "- Compile using adam (lr=0.001) optimizer"
      ],
      "metadata": {
        "id": "cDknwPfpLOnn"
      }
    },
    {
      "cell_type": "code",
      "source": [
        "# Try Model 3 : Add dropout layer and value (0.5) + declare learning rate = 0.001\n",
        "def createModel3():\n",
        "  model = tf.keras.models.Sequential([\n",
        "      tf.keras.layers.Conv2D(32, (3, 3), activation=\"relu\", input_shape=(150, 150, 3)),\n",
        "      tf.keras.layers.MaxPooling2D(2, 2),\n",
        "      tf.keras.layers.Conv2D(64, (3, 3), activation=\"relu\"),\n",
        "      tf.keras.layers.MaxPooling2D(2, 2),\n",
        "      tf.keras.layers.Conv2D(128, (3, 3), activation=\"relu\"),\n",
        "      tf.keras.layers.MaxPooling2D(2, 2),\n",
        "      tf.keras.layers.Flatten(),\n",
        "      tf.keras.layers.Dropout(0.5),\n",
        "      tf.keras.layers.Dense(512, activation=\"relu\", kernel_regularizer=tf.keras.regularizers.l2(0.02)),\n",
        "      tf.keras.layers.Dropout(0.5),\n",
        "      tf.keras.layers.Dense(2, activation=\"softmax\")\n",
        "  ])\n",
        "\n",
        "  # Compile the Model\n",
        "  optimizer = tf.keras.optimizers.Adam(learning_rate=0.001)\n",
        "  model.compile(optimizer=optimizer,\n",
        "                loss=\"categorical_crossentropy\",\n",
        "                metrics=[\"accuracy\"])\n",
        "\n",
        "  return model"
      ],
      "metadata": {
        "id": "Jb4TDRxJLNDY"
      },
      "execution_count": null,
      "outputs": []
    },
    {
      "cell_type": "code",
      "source": [
        "from tensorflow.keras.callbacks import EarlyStopping\n",
        "\n",
        "# Create the EarlyStopping callback\n",
        "early_stopping = EarlyStopping(monitor='val_accuracy', patience=3, restore_best_weights=True)\n",
        "\n",
        "# Custom condition for stopping based on validation accuracy\n",
        "class CustomEarlyStopping(tf.keras.callbacks.Callback):\n",
        "    def on_epoch_end(self, epoch, logs=None):\n",
        "        if logs['val_accuracy'] >= 0.85:\n",
        "            self.model.stop_training = True\n",
        "\n",
        "# Create an instance of the custom early stopping callback\n",
        "custom_early_stopping = CustomEarlyStopping()\n",
        "model3 = createModel3()\n",
        "\n",
        "# Train the model with custom early stopping\n",
        "history3 = model3.fit(train_gen,\n",
        "                    epochs=100,\n",
        "                    validation_data=val_gen,\n",
        "                    callbacks=[early_stopping, custom_early_stopping])"
      ],
      "metadata": {
        "colab": {
          "base_uri": "https://localhost:8080/"
        },
        "id": "Y472O9ieMo-n",
        "outputId": "2569ae92-41e1-498b-9df3-68c123e41296"
      },
      "execution_count": null,
      "outputs": [
        {
          "output_type": "stream",
          "name": "stdout",
          "text": [
            "Epoch 1/100\n",
            "91/91 [==============================] - 397s 4s/step - loss: 1.9271 - accuracy: 0.8426 - val_loss: 1.1886 - val_accuracy: 0.7655\n",
            "Epoch 2/100\n",
            "91/91 [==============================] - 125s 1s/step - loss: 0.5067 - accuracy: 0.8904 - val_loss: 1.4002 - val_accuracy: 0.7793\n",
            "Epoch 3/100\n",
            "91/91 [==============================] - 123s 1s/step - loss: 0.4750 - accuracy: 0.8883 - val_loss: 1.4178 - val_accuracy: 0.7793\n",
            "Epoch 4/100\n",
            "91/91 [==============================] - 114s 1s/step - loss: 0.4278 - accuracy: 0.9022 - val_loss: 1.0430 - val_accuracy: 0.7862\n",
            "Epoch 5/100\n",
            "91/91 [==============================] - 117s 1s/step - loss: 0.4085 - accuracy: 0.9119 - val_loss: 1.3038 - val_accuracy: 0.7724\n",
            "Epoch 6/100\n",
            "91/91 [==============================] - 116s 1s/step - loss: 0.3901 - accuracy: 0.9057 - val_loss: 1.7485 - val_accuracy: 0.6690\n",
            "Epoch 7/100\n",
            "91/91 [==============================] - 117s 1s/step - loss: 0.3882 - accuracy: 0.9050 - val_loss: 0.8423 - val_accuracy: 0.8069\n",
            "Epoch 8/100\n",
            "91/91 [==============================] - 114s 1s/step - loss: 0.3580 - accuracy: 0.9098 - val_loss: 0.6285 - val_accuracy: 0.8414\n",
            "Epoch 9/100\n",
            "91/91 [==============================] - 116s 1s/step - loss: 0.4140 - accuracy: 0.9050 - val_loss: 1.1284 - val_accuracy: 0.7310\n",
            "Epoch 10/100\n",
            "91/91 [==============================] - 114s 1s/step - loss: 0.3489 - accuracy: 0.9105 - val_loss: 0.6222 - val_accuracy: 0.8483\n",
            "Epoch 11/100\n",
            "91/91 [==============================] - 120s 1s/step - loss: 0.3686 - accuracy: 0.9112 - val_loss: 0.7073 - val_accuracy: 0.8345\n",
            "Epoch 12/100\n",
            "91/91 [==============================] - 116s 1s/step - loss: 0.3327 - accuracy: 0.9071 - val_loss: 0.9148 - val_accuracy: 0.8069\n",
            "Epoch 13/100\n",
            "91/91 [==============================] - 115s 1s/step - loss: 0.3374 - accuracy: 0.9161 - val_loss: 0.7143 - val_accuracy: 0.8345\n"
          ]
        }
      ]
    },
    {
      "cell_type": "code",
      "source": [
        "# Save the model\n",
        "model3.save('/content/drive/MyDrive/C23-PC609 | Product-Based/Machine_Learning/model3_binary_categorical.h5')"
      ],
      "metadata": {
        "id": "X_8tVMX7NAAM"
      },
      "execution_count": null,
      "outputs": []
    },
    {
      "cell_type": "markdown",
      "source": [
        "### Convert to tflite\n",
        "Convert h5 file to tflite (reduce the size & using it on android app) using tfliteconverter"
      ],
      "metadata": {
        "id": "KFHAItSUaisM"
      }
    },
    {
      "cell_type": "code",
      "source": [
        "# Load the .h5 model\n",
        "model = tf.keras.models.load_model('/content/drive/MyDrive/C23-PC609 | Product-Based/Machine_Learning/model3_binary_categorical.h5')\n",
        "\n",
        "# Convert the model to TensorFlow Lite format\n",
        "converter = tf.lite.TFLiteConverter.from_keras_model(model)\n",
        "tflite_model = converter.convert()\n",
        "\n",
        "# Save the TensorFlow Lite model to a file\n",
        "with open('/content/drive/MyDrive/C23-PC609 | Product-Based/Machine_Learning/model3_binary_categorical.tflite', 'wb') as f:\n",
        "    f.write(tflite_model)"
      ],
      "metadata": {
        "colab": {
          "base_uri": "https://localhost:8080/"
        },
        "id": "ARIMwT1cZsi_",
        "outputId": "27604a0b-a763-4e24-8165-4246927e2514"
      },
      "execution_count": null,
      "outputs": [
        {
          "output_type": "stream",
          "name": "stderr",
          "text": [
            "WARNING:absl:Found untraced functions such as _jit_compiled_convolution_op, _jit_compiled_convolution_op, _jit_compiled_convolution_op, _update_step_xla while saving (showing 4 of 4). These functions will not be directly callable after loading.\n"
          ]
        }
      ]
    },
    {
      "cell_type": "code",
      "source": [
        "# Load Model\n",
        "from tensorflow.keras.models import load_model\n",
        "\n",
        "model = load_model(\"/content/drive/MyDrive/C23-PC609 | Product-Based/Machine_Learning/model3_binary_categorical.h5\")"
      ],
      "metadata": {
        "id": "0zKxGseMawWk"
      },
      "execution_count": null,
      "outputs": []
    },
    {
      "cell_type": "code",
      "source": [
        "from google.colab import files\n",
        "from tensorflow import keras\n",
        "from keras.utils import load_img, img_to_array\n",
        "\n",
        "uploaded = files.upload()\n",
        "\n",
        "for fn in uploaded.keys():\n",
        "    # predicting images\n",
        "    path = fn\n",
        "    img = load_img(path, target_size=(150, 150))\n",
        "    x = img_to_array(img)\n",
        "    x = np.expand_dims(x, axis=0)\n",
        "    x = x / 255.0\n",
        "\n",
        "    images = np.vstack([x])\n",
        "    classes = model.predict(images)\n",
        "    # probability_rotten = classes[:10]\n",
        "    # probability_fresh = classes[10:]\n",
        "    # print(probability_rotten)\n",
        "    # print(probability_fresh)\n",
        "    idx_classes = np.argmax(classes)\n",
        "    print(\"File name:\",fn)\n",
        "    print(\"Prediction result:\",idx_classes)"
      ],
      "metadata": {
        "colab": {
          "base_uri": "https://localhost:8080/",
          "height": 125
        },
        "id": "2CaKfGcsIVmy",
        "outputId": "b948f0a7-124e-43d6-f974-3ba859fa6560"
      },
      "execution_count": null,
      "outputs": [
        {
          "output_type": "display_data",
          "data": {
            "text/plain": [
              "<IPython.core.display.HTML object>"
            ],
            "text/html": [
              "\n",
              "     <input type=\"file\" id=\"files-ae0582e9-b438-41d5-bd44-375c8a275a42\" name=\"files[]\" multiple disabled\n",
              "        style=\"border:none\" />\n",
              "     <output id=\"result-ae0582e9-b438-41d5-bd44-375c8a275a42\">\n",
              "      Upload widget is only available when the cell has been executed in the\n",
              "      current browser session. Please rerun this cell to enable.\n",
              "      </output>\n",
              "      <script>// Copyright 2017 Google LLC\n",
              "//\n",
              "// Licensed under the Apache License, Version 2.0 (the \"License\");\n",
              "// you may not use this file except in compliance with the License.\n",
              "// You may obtain a copy of the License at\n",
              "//\n",
              "//      http://www.apache.org/licenses/LICENSE-2.0\n",
              "//\n",
              "// Unless required by applicable law or agreed to in writing, software\n",
              "// distributed under the License is distributed on an \"AS IS\" BASIS,\n",
              "// WITHOUT WARRANTIES OR CONDITIONS OF ANY KIND, either express or implied.\n",
              "// See the License for the specific language governing permissions and\n",
              "// limitations under the License.\n",
              "\n",
              "/**\n",
              " * @fileoverview Helpers for google.colab Python module.\n",
              " */\n",
              "(function(scope) {\n",
              "function span(text, styleAttributes = {}) {\n",
              "  const element = document.createElement('span');\n",
              "  element.textContent = text;\n",
              "  for (const key of Object.keys(styleAttributes)) {\n",
              "    element.style[key] = styleAttributes[key];\n",
              "  }\n",
              "  return element;\n",
              "}\n",
              "\n",
              "// Max number of bytes which will be uploaded at a time.\n",
              "const MAX_PAYLOAD_SIZE = 100 * 1024;\n",
              "\n",
              "function _uploadFiles(inputId, outputId) {\n",
              "  const steps = uploadFilesStep(inputId, outputId);\n",
              "  const outputElement = document.getElementById(outputId);\n",
              "  // Cache steps on the outputElement to make it available for the next call\n",
              "  // to uploadFilesContinue from Python.\n",
              "  outputElement.steps = steps;\n",
              "\n",
              "  return _uploadFilesContinue(outputId);\n",
              "}\n",
              "\n",
              "// This is roughly an async generator (not supported in the browser yet),\n",
              "// where there are multiple asynchronous steps and the Python side is going\n",
              "// to poll for completion of each step.\n",
              "// This uses a Promise to block the python side on completion of each step,\n",
              "// then passes the result of the previous step as the input to the next step.\n",
              "function _uploadFilesContinue(outputId) {\n",
              "  const outputElement = document.getElementById(outputId);\n",
              "  const steps = outputElement.steps;\n",
              "\n",
              "  const next = steps.next(outputElement.lastPromiseValue);\n",
              "  return Promise.resolve(next.value.promise).then((value) => {\n",
              "    // Cache the last promise value to make it available to the next\n",
              "    // step of the generator.\n",
              "    outputElement.lastPromiseValue = value;\n",
              "    return next.value.response;\n",
              "  });\n",
              "}\n",
              "\n",
              "/**\n",
              " * Generator function which is called between each async step of the upload\n",
              " * process.\n",
              " * @param {string} inputId Element ID of the input file picker element.\n",
              " * @param {string} outputId Element ID of the output display.\n",
              " * @return {!Iterable<!Object>} Iterable of next steps.\n",
              " */\n",
              "function* uploadFilesStep(inputId, outputId) {\n",
              "  const inputElement = document.getElementById(inputId);\n",
              "  inputElement.disabled = false;\n",
              "\n",
              "  const outputElement = document.getElementById(outputId);\n",
              "  outputElement.innerHTML = '';\n",
              "\n",
              "  const pickedPromise = new Promise((resolve) => {\n",
              "    inputElement.addEventListener('change', (e) => {\n",
              "      resolve(e.target.files);\n",
              "    });\n",
              "  });\n",
              "\n",
              "  const cancel = document.createElement('button');\n",
              "  inputElement.parentElement.appendChild(cancel);\n",
              "  cancel.textContent = 'Cancel upload';\n",
              "  const cancelPromise = new Promise((resolve) => {\n",
              "    cancel.onclick = () => {\n",
              "      resolve(null);\n",
              "    };\n",
              "  });\n",
              "\n",
              "  // Wait for the user to pick the files.\n",
              "  const files = yield {\n",
              "    promise: Promise.race([pickedPromise, cancelPromise]),\n",
              "    response: {\n",
              "      action: 'starting',\n",
              "    }\n",
              "  };\n",
              "\n",
              "  cancel.remove();\n",
              "\n",
              "  // Disable the input element since further picks are not allowed.\n",
              "  inputElement.disabled = true;\n",
              "\n",
              "  if (!files) {\n",
              "    return {\n",
              "      response: {\n",
              "        action: 'complete',\n",
              "      }\n",
              "    };\n",
              "  }\n",
              "\n",
              "  for (const file of files) {\n",
              "    const li = document.createElement('li');\n",
              "    li.append(span(file.name, {fontWeight: 'bold'}));\n",
              "    li.append(span(\n",
              "        `(${file.type || 'n/a'}) - ${file.size} bytes, ` +\n",
              "        `last modified: ${\n",
              "            file.lastModifiedDate ? file.lastModifiedDate.toLocaleDateString() :\n",
              "                                    'n/a'} - `));\n",
              "    const percent = span('0% done');\n",
              "    li.appendChild(percent);\n",
              "\n",
              "    outputElement.appendChild(li);\n",
              "\n",
              "    const fileDataPromise = new Promise((resolve) => {\n",
              "      const reader = new FileReader();\n",
              "      reader.onload = (e) => {\n",
              "        resolve(e.target.result);\n",
              "      };\n",
              "      reader.readAsArrayBuffer(file);\n",
              "    });\n",
              "    // Wait for the data to be ready.\n",
              "    let fileData = yield {\n",
              "      promise: fileDataPromise,\n",
              "      response: {\n",
              "        action: 'continue',\n",
              "      }\n",
              "    };\n",
              "\n",
              "    // Use a chunked sending to avoid message size limits. See b/62115660.\n",
              "    let position = 0;\n",
              "    do {\n",
              "      const length = Math.min(fileData.byteLength - position, MAX_PAYLOAD_SIZE);\n",
              "      const chunk = new Uint8Array(fileData, position, length);\n",
              "      position += length;\n",
              "\n",
              "      const base64 = btoa(String.fromCharCode.apply(null, chunk));\n",
              "      yield {\n",
              "        response: {\n",
              "          action: 'append',\n",
              "          file: file.name,\n",
              "          data: base64,\n",
              "        },\n",
              "      };\n",
              "\n",
              "      let percentDone = fileData.byteLength === 0 ?\n",
              "          100 :\n",
              "          Math.round((position / fileData.byteLength) * 100);\n",
              "      percent.textContent = `${percentDone}% done`;\n",
              "\n",
              "    } while (position < fileData.byteLength);\n",
              "  }\n",
              "\n",
              "  // All done.\n",
              "  yield {\n",
              "    response: {\n",
              "      action: 'complete',\n",
              "    }\n",
              "  };\n",
              "}\n",
              "\n",
              "scope.google = scope.google || {};\n",
              "scope.google.colab = scope.google.colab || {};\n",
              "scope.google.colab._files = {\n",
              "  _uploadFiles,\n",
              "  _uploadFilesContinue,\n",
              "};\n",
              "})(self);\n",
              "</script> "
            ]
          },
          "metadata": {}
        },
        {
          "output_type": "stream",
          "name": "stdout",
          "text": [
            "Saving 005.jpg to 005 (1).jpg\n",
            "1/1 [==============================] - 0s 18ms/step\n",
            "File name: 005.jpg\n",
            "Prediction result: 0\n"
          ]
        }
      ]
    },
    {
      "cell_type": "code",
      "source": [],
      "metadata": {
        "id": "AHZWfTP2JTQA"
      },
      "execution_count": null,
      "outputs": []
    }
  ]
}